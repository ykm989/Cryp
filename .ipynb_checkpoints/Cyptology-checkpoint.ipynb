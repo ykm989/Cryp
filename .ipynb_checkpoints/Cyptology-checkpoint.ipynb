{
 "cells": [
  {
   "cell_type": "markdown",
   "metadata": {},
   "source": [
    "Cyptology\n",
    "========="
   ]
  },
  {
   "cell_type": "markdown",
   "metadata": {},
   "source": [
    "* 현대 암호학은 암호 알고리즘을 공개한다.\n",
    "\n",
    "* 안정성은 암호 키 관리를 통해서 구현한다."
   ]
  },
  {
   "cell_type": "markdown",
   "metadata": {},
   "source": [
    "평문(M), 암호문(C), 암호 알고리즈(E), 복호 알고리즘(D), 암호 키(K)\n",
    "\n",
    "* C = Ek(P) = E(K,M) 암호화\n",
    "* P = Dk(C) = D(K,C) 복호화"
   ]
  },
  {
   "cell_type": "markdown",
   "metadata": {},
   "source": [
    "# 1. 치환 암호(대치 암호, 대체 암호, Substitution Cipher)\n",
    "* * *\n",
    "\n",
    "\n",
    "특정 문자를 다른 문자로 1:1 대체\n",
    "\n",
    "이때는 문자와 대체 문자를 나열한 표가 암호키와 해독키가 된다."
   ]
  },
  {
   "cell_type": "markdown",
   "metadata": {},
   "source": [
    "## 시저 암호(Caesar Cipher)\n",
    "\n",
    "알파벳 문자를 순차적으로 n문자씩 오른쪽으로 이동하면서 대체 문자를 사용하는 방식\n",
    "\n",
    "* 장점 : 단순하다.\n",
    "* 단점 : 단순한 만큼 해독이 쉬워 빈도수 분석에 취약하다."
   ]
  },
  {
   "cell_type": "code",
   "execution_count": 52,
   "metadata": {},
   "outputs": [],
   "source": [
    "def EnCrypt(plain):\n",
    "    cipher = ''\n",
    "    key_table = [] #여기서는 n = 3으로 하였다.\n",
    "    for i in range(0,26):\n",
    "        key_table.append(chr((65 + ((2 + i) % 26))))\n",
    "    \n",
    "    for i in plain.upper():\n",
    "        if(i.isalpha()): cipher += key_table[ord(i) - 65]\n",
    "        \n",
    "    return cipher"
   ]
  },
  {
   "cell_type": "code",
   "execution_count": null,
   "metadata": {},
   "outputs": [],
   "source": [
    "def DeCrypt(cipher):\n",
    "    plain = ''\n",
    "    for i in cipher.upper():\n",
    "        if(i.isalpha()): plain += chr(key_table.index(i) + 65)\n",
    "        \n",
    "    return plain"
   ]
  },
  {
   "cell_type": "markdown",
   "metadata": {},
   "source": [
    "## 키워드 암호(Keyword Cipher)\n",
    "\n",
    "시저 암호화 방식의 단점을 부분적으로 보완  \n",
    "특정 키워드로 지정한 단어를 암호문 앞줄에 먼저 적고, 키워드에 표시된 문자를 뺀 나머지 문자를 알파벳순으로 기술\n",
    "\n",
    "* 장점 : 키워드를 모르면 시저암호 보다 추측하기 훨씬 어렵다.\n",
    "* 단점 : 뒷부분이 거의 동일하다."
   ]
  },
  {
   "cell_type": "code",
   "execution_count": 55,
   "metadata": {},
   "outputs": [
    {
     "name": "stdout",
     "output_type": "stream",
     "text": [
      "단어를 입력해주세요(Key) : \n"
     ]
    },
    {
     "name": "stdin",
     "output_type": "stream",
     "text": [
      " Kim\n"
     ]
    }
   ],
   "source": [
    "print(\"단어를 입력해주세요(Key) : \")\n",
    "key = input().upper()"
   ]
  },
  {
   "cell_type": "code",
   "execution_count": 61,
   "metadata": {},
   "outputs": [],
   "source": [
    "def Encrypt(plain):\n",
    "    cipher = ''\n",
    "    key_table = []\n",
    "    for i in key: #키 값 먼저 테이블에 중독 안되게 넣어두기\n",
    "        if(not (i in key_table)): key_table.append(i)\n",
    "            \n",
    "    for i in range(0,26): # #키 테이블 만들기\n",
    "        if(not (chr(i + 65) in key_table)): key_table.append(chr(i + 65))\n",
    "        \n",
    "    for i in plain.upper():\n",
    "        if(i.isalpha()): cipher += key_table[ord(i) - 65]\n",
    "            \n",
    "    return cipher"
   ]
  },
  {
   "cell_type": "code",
   "execution_count": null,
   "metadata": {},
   "outputs": [],
   "source": [
    "def Encrypt(cipher):\n",
    "    plain = ''\n",
    "    \n",
    "    for i in cipher"
   ]
  },
  {
   "cell_type": "code",
   "execution_count": 62,
   "metadata": {},
   "outputs": [
    {
     "data": {
      "text/plain": [
       "'EBIIM'"
      ]
     },
     "execution_count": 62,
     "metadata": {},
     "output_type": "execute_result"
    }
   ],
   "source": [
    "Encrypt(\"Hello\")"
   ]
  },
  {
   "cell_type": "markdown",
   "metadata": {},
   "source": [
    "## 치환 암호(Substitution Cipher)\n",
    "\n",
    "앞서 소개한 방식을 보완하기 위해서는 문자표를 둘 이상 사용한다.\n",
    "\n",
    "* 장점 : 앞의 두 암호화 방식보다 해독하기 어렵다.\n",
    "* 단점 : 문자표가 늘어나면 복잡해지고, 그만큼 구현이 어렵다."
   ]
  },
  {
   "cell_type": "code",
   "execution_count": 15,
   "metadata": {},
   "outputs": [],
   "source": [
    "import csv\n",
    "\n",
    "vigenere = []\n",
    "\n",
    "with open('Vigenere.csv', 'r', encoding = 'utf-8-sig') as f:\n",
    "    rd = csv.reader(f)\n",
    "    \n",
    "    for row in rd:\n",
    "        vigenere.append(row)\n",
    "    "
   ]
  },
  {
   "cell_type": "code",
   "execution_count": 43,
   "metadata": {},
   "outputs": [
    {
     "name": "stdin",
     "output_type": "stream",
     "text": [
      "Text :  dlstoddlfvlrhsgkfEOrmEofmffnqjdfdyw\n",
      "Key :  hello\n"
     ]
    },
    {
     "name": "stdout",
     "output_type": "stream",
     "text": [
      "KPDECKHWQJSVSDURJPZFTIZQAMJYBYKJOJK\n"
     ]
    }
   ],
   "source": [
    "plain = input(\"Text : \")\n",
    "plain.replace(\" \",\"\")\n",
    "plain = plain.upper()\n",
    "\n",
    "key = input(\"Key : \")\n",
    "key = key.upper()\n",
    "\n",
    "cipher = ''\n",
    "for i in range(len(plain)):\n",
    "    cipher += vigenere[ord(key[i % len(key)]) - 65][ord(plain[i]) - 65]\n",
    "    \n",
    "print(cipher)"
   ]
  },
  {
   "cell_type": "markdown",
   "metadata": {},
   "source": [
    "# 2. 전치 암호(Transposition Cipher)\n",
    "* * *\n",
    "치환 암호와 다르게 전치 암호는 문자의 배열 순서를 변경한다.\n",
    "\n"
   ]
  },
  {
   "cell_type": "markdown",
   "metadata": {},
   "source": [
    "## 칼럼 암호(Cloumn Cipher)\n",
    "\n",
    "문자를 길이가 n인 칼럼으로 만들어서 가로로 읽는다.\n",
    "빈 공간은 특정한 문자를 채워넣는다."
   ]
  },
  {
   "cell_type": "code",
   "execution_count": 50,
   "metadata": {},
   "outputs": [
    {
     "name": "stdin",
     "output_type": "stream",
     "text": [
      "Text :  hlewafla\n",
      "칼럼 길이 :  3\n"
     ]
    },
    {
     "name": "stdout",
     "output_type": "stream",
     "text": [
      "HWLLAAEFAW\n"
     ]
    }
   ],
   "source": [
    "plain = input(\"Text : \")\n",
    "n = int(input(\"칼럼 길이 : \"))\n",
    "\n",
    "plain = plain.upper()\n",
    "plain.replace(\" \",\"\")\n",
    "\n",
    "cipher = ''\n",
    "if(len(plain) % n != 0):\n",
    "    for i in range((((len(plain) // n) + 1) * 5) - len(plain)):\n",
    "        plain += chr(65+i)\n",
    "    \n",
    "for i in range(len(plain)):\n",
    "    cipher += plain[((i % n) * n) + (i // n)]\n",
    "    \n",
    "print(cipher)"
   ]
  },
  {
   "cell_type": "markdown",
   "metadata": {},
   "source": [
    "# 3. 스트림 암호(Stream Cipher)\n",
    "* * *\n",
    "스트림 = 데이터(bit, byte, block)의 순차적 흐름\n",
    "데이터 스트림과 키 스트림을 순차적으로 XOR하여 암호화 하는 알고리즘\n",
    "\n",
    "이전에는 LFSR이라 불림\n",
    "\n",
    " * 장점 : 암호 속도가 빠르다, 에러 전파 현상이 없다"
   ]
  },
  {
   "cell_type": "markdown",
   "metadata": {},
   "source": [
    "1. 텍스트와 같은 길이의 키를 생성"
   ]
  },
  {
   "cell_type": "code",
   "execution_count": 56,
   "metadata": {},
   "outputs": [
    {
     "name": "stdin",
     "output_type": "stream",
     "text": [
      "Text :  abcdefghijklmnopqrstuvxyz\n"
     ]
    }
   ],
   "source": [
    "import random\n",
    "\n",
    "plain = input(\"Text : \")\n",
    "key = ''\n",
    "cipher = []\n",
    "\n",
    "for i in range(len(plain)):\n",
    "    key += chr(random.randrange(65,91))\n",
    "    \n",
    "for i in range(len(plain)):\n",
    "    cipher.append(ord(plain[i])^ord(key[i]))\n",
    "    \n",
    "print(cipher)"
   ]
  },
  {
   "cell_type": "markdown",
   "metadata": {},
   "source": [
    "# 4. 블록 암호(Block Cipher)\n",
    "* * *\n",
    "블록 = 특정 비트 수의 데이터\n",
    "블럭 암호 = 데이터 블럭 단위로 암호화 하는 알고리즘\n",
    "\n",
    "DES, SEED, RC5, AES가 있다.\n",
    "\n",
    "에러 전파 현상은 있을 수도 있고 없을 수도 있다."
   ]
  },
  {
   "cell_type": "markdown",
   "metadata": {},
   "source": [
    "# DES"
   ]
  },
  {
   "cell_type": "code",
   "execution_count": null,
   "metadata": {},
   "outputs": [],
   "source": []
  },
  {
   "cell_type": "markdown",
   "metadata": {},
   "source": [
    "# 5. 대칭키 암호(Symmetric Cryptography)\n",
    "* * *\n",
    "* 암호화 할 때 사용하는 키 = 복호화 할 때 사용하는 키\n",
    "* 키 공유\n",
    "* 일반적으로 암/복호화 속도가 빠름\n",
    "* 블록 암호, 스트림 암호"
   ]
  },
  {
   "cell_type": "markdown",
   "metadata": {},
   "source": [
    "# 6. 비대칭키 암호 (Asymmetric Cryptography)\n",
    "* * * \n",
    "* 암호화 할 때 사용하는 키와 복호화 할 때 사용하는 키가 서로 다름\n",
    "* 키 공유가 필요 없음\n",
    "* 일반적으로 암/복호화 속도가 느림"
   ]
  },
  {
   "cell_type": "markdown",
   "metadata": {},
   "source": [
    "## 하이브리드 암호 시스템\n",
    "\n",
    "대칭키 + 비대칭키\n",
    "\n",
    "* 데이터 : 대칭키 암호로 암호\n",
    "* 키 : 공개키 암호로 암호"
   ]
  },
  {
   "cell_type": "markdown",
   "metadata": {},
   "source": [
    "# 7. 링크 암호(Link Encryption)\n",
    "* * *\n",
    "\n",
    "* 링크 계층에서 두 지점 간의 네트워크 전송을 암호화하는 데이터 보안 프로세스\n",
    "* 최종 목적지에 도달할때까지 각기 다른 암호키나 알고리즘을 사용\n",
    "* 중간에 복호화되기 때문에 전송 보안에 유의해야한다.\n",
    "* 인터넷에서는 인터넷 접속상 사용할 수 없다."
   ]
  },
  {
   "cell_type": "markdown",
   "metadata": {},
   "source": [
    "# 8. 종단간 암호(End-to-End Encryption)\n",
    "* * *\n",
    "\n",
    "* 데이터를 송신/수신하는 두 종단 시스템에서만 암호화와 복호화를 수행한다.\n",
    "* 네트워크 계층에서 에플리케이션 계층까지 암호화가 이뤄진다."
   ]
  },
  {
   "cell_type": "markdown",
   "metadata": {},
   "source": [
    "## 링크 암호 vs 종단간 암호\n",
    "\n",
    "#### 종단간 암호\n",
    "* 헤더는 암호화 되지 않는다.\n",
    "* 중간 노드가 공격 당하여도 데이터가 노출되지 않는다.\n",
    "* 트래픽 분석에 약하다.\n",
    "\n",
    "#### 링크 암호\n",
    "* 헤더를 포함한 모든 데이터를 암호화.\n",
    "* 중간 노드가 공격 당하면 데이터 유출 위험이 있다.\n",
    "* 트래픽 분석을 어렵게 한ㄷ나."
   ]
  },
  {
   "cell_type": "markdown",
   "metadata": {},
   "source": [
    "***\n",
    "# 주요 암호 기술\n",
    "***"
   ]
  },
  {
   "cell_type": "markdown",
   "metadata": {},
   "source": [
    "## 일방향 해쉬 함수\n",
    "\n",
    "* 정보나 소프트웨어를 공유할 때, 중간에 변경되지 않음을 확인시키기 위해서 제공(무결성!)\n",
    "* 일방향이다.\n",
    "x가 주어졌을 때, y값을 구하는건 쉽지만 y가 주어졌을 때, x를 계산하기 어렵다."
   ]
  },
  {
   "cell_type": "markdown",
   "metadata": {},
   "source": [
    "## 메시지 인증 코드\n",
    "\n",
    "* 목적 1 : 메시지를 공유할 때, 중간에 변경되지 않음을 확인한다.(무결성)\n",
    "* 목적 2 : 메시지를 공유할 때, 수신자가 해당 메시지의 송신자를 확인할 수 있게 한다.(인증)"
   ]
  },
  {
   "cell_type": "markdown",
   "metadata": {},
   "source": [
    "## 전자서명\n",
    "* 목적 : 메시지 무결성, 인증, 부인방지\n",
    "    \n",
    "## 의사 난수 생성기\n",
    "* 의사 난수(Pseudo Random Number)\n",
    "    - Pseudo(의사) : 보조의, 가짜의\n",
    "    - 컴퓨터에서 제공하는 랜덤 난수는 기본적으로 Pseudo이다. Seed값이 같으면 같은 값이 나온다."
   ]
  },
  {
   "cell_type": "markdown",
   "metadata": {},
   "source": [
    "* * *\n",
    "# 암호 분석/해독 기술\n",
    "* * *"
   ]
  },
  {
   "cell_type": "markdown",
   "metadata": {},
   "source": [
    "## 암호문 단독 공격(Ciphertext Only Attack, COA)\n",
    "\n",
    "* 공격자 소유 정보 : 해독하려는 암호문\n",
    "* 통계적 성질, 문장의 특성등을 추정하여 해독하는 방법"
   ]
  },
  {
   "cell_type": "markdown",
   "metadata": {},
   "source": [
    "## 기지 평문 공격(Known Plaintext Attack, KPA)\n",
    "\n",
    "* 공격자 소유 정보 : 해독하려는 암호문 외에 추가로 여러개의 평문/암호문 쌍\n",
    "* 암호문에 대응하는 일부 평문이 사용 가능한 상황에서의 공격"
   ]
  },
  {
   "cell_type": "markdown",
   "metadata": {},
   "source": [
    "## 선택 평문 공격(Chosen Plaintext Attack, CPA)\n",
    "\n",
    "* 공격자 소유 정보 : 공격자가 선택한 평문과 그 평문의 암호문\n",
    "\n",
    "평문을 주면 암호문을 만들 수 있을 때!"
   ]
  },
  {
   "cell_type": "markdown",
   "metadata": {},
   "source": [
    "## 선택 암호문 공격(Chosen Ciphertext Attack, CCA)\n",
    "\n",
    "* 공격자 소유 정보 : 공격자가 선택한 암호문을 해독해서 평문을 얻을 수 있는 상황. 단, 실제 해독하려는 암호문은 제외\n",
    "\n",
    "암호문을 주면 평문을 만들 수 있을 때!"
   ]
  },
  {
   "cell_type": "markdown",
   "metadata": {},
   "source": [
    "* * *\n",
    "# 암호 안정성 평가\n",
    "* * *\n",
    "\n",
    "### 안정성\n",
    "* 이론적 : 무한한 계산 능력이 있어도 공격에 성공할 수 없다.\n",
    "* 계산적 안정성 : 암호 시스템을 공격하기 위해 필요한 계산량/리소스가 매우 커 현실적으로 공격할 수 없는 경우\n",
    "    * 암호 해독 비용 > 암호화된 정보의 가치\n",
    "    * 암호 해독 시간 > 정보의 유효 기간"
   ]
  }
 ],
 "metadata": {
  "kernelspec": {
   "display_name": "Python 3",
   "language": "python",
   "name": "python3"
  },
  "language_info": {
   "codemirror_mode": {
    "name": "ipython",
    "version": 3
   },
   "file_extension": ".py",
   "mimetype": "text/x-python",
   "name": "python",
   "nbconvert_exporter": "python",
   "pygments_lexer": "ipython3",
   "version": "3.8.3"
  }
 },
 "nbformat": 4,
 "nbformat_minor": 4
}
